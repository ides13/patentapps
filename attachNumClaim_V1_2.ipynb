{
  "nbformat": 4,
  "nbformat_minor": 0,
  "metadata": {
    "colab": {
      "name": "attachNumClaim_V1.2.ipynb",
      "provenance": [],
      "collapsed_sections": [],
      "authorship_tag": "ABX9TyMvJuQ4xyvm4rBQ7Vm/Cb2C",
      "include_colab_link": true
    },
    "kernelspec": {
      "name": "python3",
      "display_name": "Python 3"
    },
    "language_info": {
      "name": "python"
    }
  },
  "cells": [
    {
      "cell_type": "markdown",
      "metadata": {
        "id": "view-in-github",
        "colab_type": "text"
      },
      "source": [
        "<a href=\"https://colab.research.google.com/github/ides13/patentapps/blob/master/attachNumClaim_V1_2.ipynb\" target=\"_parent\"><img src=\"https://colab.research.google.com/assets/colab-badge.svg\" alt=\"Open In Colab\"/></a>"
      ]
    },
    {
      "cell_type": "code",
      "execution_count": 44,
      "metadata": {
        "colab": {
          "base_uri": "https://localhost:8080/"
        },
        "id": "Yik6MpWD8Rqq",
        "outputId": "66fdf99c-b905-4c80-b27e-89d101aba609"
      },
      "outputs": [
        {
          "output_type": "stream",
          "name": "stdout",
          "text": [
            "时间数字转换电路 时间数字转换电路150\n",
            "第一数字信号 第一数字信号Sc1\n",
            "第二数字信号 第二数字信号Sc2\n",
            "第一量测端 第一量测端P1\n",
            "第二量测端 第二量测端P2\n",
            "电源电路 电源电路110\n",
            "处理单元 处理单元130\n",
            "待测样本 待测样本20\n",
            "固定电容 固定电容Cr\n",
            "充电开关 充电开关Mp\n",
            "第一开关 第一开关M1\n",
            "第二开关 第二开关M2\n",
            "放电开关 放电开关Md\n",
            "放电阻抗 放电阻抗Rr\n",
            "控制信号 控制信号Sp\n",
            "控制信号 控制信号S1\n",
            "控制信号 控制信号S2\n",
            "控制信号 控制信号S4\n",
            "控制信号 控制信号Sd\n",
            "起始信号 起始信号St1\n",
            "结束信号 结束信号St2\n",
            "接地 接地G\n",
            "\n",
            "\n",
            "1.一种血球容积比的全血量测方法，其特征在于，包括：计时一固定电容Cr充电至一既定电位的一第一充电时间；利用一时间数字转换电路150将该第一充电时间转换成一第一数字信号Sc1；计时一待测样本20充电至该既定电位的一第二充电时间；利用该时间数字转换电路150将该第二充电时间转换成一第二数字信号Sc2；以及根据该第一数字信号Sc1、该第二数字信号Sc2与该固定电容Cr的一电容值产生一电容变化值。\n",
            "2.如权利要求1所述的血球容积比的全血量测方法，其特征在于，更包括：将该电容变化值转为对应的一血球容积比的值。\n",
            "3.如权利要求1所述的血球容积比的全血量测方法，其特征在于，计时该固定电容Cr充电至该既定电位的该第一充电时间的步骤，包括：开启一充电开关Mp并输出一起始信号St1给该时间数字转换电路150；利用该时间数字转换电路150响应该起始信号St1开始计时；利用一电源电路110经由该充电开关Mp对该固定电容Cr进行充电；侦测该固定电容Cr的端电压；于该端电压达该既定电位时，输出一结束信号St2给该时间数字转换电路150;以及利用该时间数字转换电路150响应该结束信号St2结束计时，并得到该固定电容Cr充电至该既定电位的该第一充电时间，其中该第一充电时间为接收到的该起始信号St1及该结束信号St2的时间差。\n",
            "\n",
            "\n"
          ]
        }
      ],
      "source": [
        "s = '''\n",
        "\n",
        "110 电源电路\n",
        "\n",
        "130 处理单元\n",
        "\n",
        "150 时间数字转换电路\n",
        "\n",
        "20 待测样本\n",
        "\n",
        "Cr 固定电容\n",
        "\n",
        "G 接地\n",
        "\n",
        "P1 第一量测端\n",
        "\n",
        "P2 第二量测端\n",
        "\n",
        "Mp 充电开关\n",
        "\n",
        "M1 第一开关\n",
        "\n",
        "M2 第二开关\n",
        "\n",
        "Md 放电开关\n",
        "\n",
        "Rr 放电阻抗\n",
        "\n",
        "Sp 控制信号\n",
        "\n",
        "S1 控制信号\n",
        "\n",
        "S2 控制信号\n",
        "\n",
        "S4 控制信号\n",
        "\n",
        "Sd 控制信号\n",
        "\n",
        "St1 起始信号\n",
        "\n",
        "St2 结束信号\n",
        "\n",
        "Sc1 第一数字信号\n",
        "\n",
        "Sc2 第二数字信号\n",
        "'''\n",
        "\n",
        "claims = '''\n",
        "\n",
        "1.一种血球容积比的全血量测方法，其特征在于，包括： 计时一固定电容充电至一既定电位的一第一充电时间； 利用一时间数字转换电路将该第一充电时间转换成一第一数字信号； 计时一待测样本充电至该既定电位的一第二充电时间； 利用该时间数字转换电路将该第二充电时间转换成一第二数字信号；以及 根据该第一数字信号、该第二数字信号与该固定电容的一电容值产生一电容变化值。\n",
        "2.如权利要求1所述的血球容积比的全血量测方法，其特征在于，更包括： 将该电容变化值转为对应的一血球容积比的值。\n",
        "3.如权利要求1所述的血球容积比的全血量测方法，其特征在于，计时该固定电容充电 至该既定电位的该第一充电时间的步骤，包括： 开启一充电开关并输出一起始信号给该时间数字转换电路； 利用该时间数字转换电路响应该起始信号开始计时； 利用一电源电路经由该充电开关对该固定电容进行充电； 侦测该固定电容的端电压； 于该端电压达该既定电位时，输出一结束信号给该时间数字转换电路;以及 利用该时间数字转换电路响应该结束信号结束计时，并得到该固定电容充电至该既定 电位的该第一充电时间，其中该第一充电时间为接收到的该起始信号及该结束信号的时间差。\n",
        "\n",
        "'''\n",
        "\n",
        "from typing import NamedTuple\n",
        "import re\n",
        "\n",
        "class Token(NamedTuple):\n",
        "    numb: str\n",
        "    spacerMid: str\n",
        "    elem: str\n",
        "    spacerEnd: str\n",
        "#tokspec = Token('numb', 'spacerMid', 'elem', 'spacerEnd')\n",
        "#tok_regex2 = '(?P<numb>[a-zA-Z_0-9]+)(?P<spacerMid>[-、，:：\\s]*?)(?P<elem>[\\u4e00-\\u9fff]+)(?P<spacerEnd>[-、；，。\\n])'\n",
        "\n",
        "token_specification = [\n",
        "    ('numb',     r'[a-zA-Z_0-9]+'),  # Integer or decimal number\n",
        "    ('spacerMid',  r'[ -、，]?'),           # 元件與符號的間隔記號\n",
        "    ('elem',     r'.*?'),             # 元件\n",
        "    ('spacerEnd',  r'[-、；，。\\n]'),     # 每一對元件與符號配對之間的間隔記號\n",
        "]\n",
        "tok_regex = ''.join('(?P<%s>%s)' % pair for pair in token_specification)\n",
        "#print(tok_regex)\n",
        "\n",
        "alist_token = []\n",
        "for mo in re.finditer(tok_regex, s):\n",
        "  kind = mo.lastgroup\n",
        "  value = mo.group()\n",
        "  a_token = Token(mo.group('numb'),mo.group('spacerMid'),mo.group('elem'),mo.group('spacerEnd'))\n",
        "  alist_token.append(a_token)\n",
        "  #a_groupdict = mo.groupdict()\n",
        "  #print(a_token, a_groupdict, value)\n",
        "#print(alist_token)\n",
        "\n",
        "#claims = re.sub(r\"\\s$\", \"\", claims)\n",
        "claims = claims.replace(\" \", \"\")\n",
        "\n",
        "sdorded_token = ((tok.numb, tok.elem) for tok in sorted(alist_token, key=lambda tok: len(tok.elem), reverse=True))\n",
        "for num, name in sdorded_token:\n",
        "  name = name.strip()\n",
        "  num = num.strip()\n",
        "  newname = name+num\n",
        "  print(name, newname)\n",
        "  claims = claims.replace(name, newname)\n",
        "  #claims = re.sub(name, newname, claims) \n",
        "\n",
        "#claims = claims.replace(\"第一数字信号\", \"第一数字信号Sc1\")\n",
        "#claims = claims.replace(\"第二数字信号\", \"第二数字信号Sc2\")\n",
        "\n",
        "print(claims)"
      ]
    },
    {
      "cell_type": "code",
      "source": [
        ""
      ],
      "metadata": {
        "id": "eJNPqxyg-LZ8"
      },
      "execution_count": null,
      "outputs": []
    }
  ]
}